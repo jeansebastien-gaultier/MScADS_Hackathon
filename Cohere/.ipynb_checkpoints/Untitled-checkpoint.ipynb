{
 "cells": [
  {
   "cell_type": "code",
   "execution_count": 1,
   "id": "c21e456e-dadf-4e96-99a5-5ec992f18b89",
   "metadata": {},
   "outputs": [],
   "source": [
    "import streamlit as st\n",
    "from langchain_cohere import ChatCohere, CohereEmbeddings\n",
    "from langchain_community.document_loaders.csv_loader import CSVLoader\n",
    "from langchain_core.output_parsers import StrOutputParser\n",
    "from langchain_core.runnables import RunnablePassthrough\n",
    "from langchain import hub\n",
    "from langchain_text_splitters import CharacterTextSplitter\n",
    "from langchain_community.vectorstores import Chroma"
   ]
  },
  {
   "cell_type": "code",
   "execution_count": 3,
   "id": "1cedb815-494f-4aa2-8d66-cc21d6bf6121",
   "metadata": {},
   "outputs": [
    {
     "name": "stderr",
     "output_type": "stream",
     "text": [
      "Created a chunk of size 1346, which is longer than the specified 1000\n",
      "Created a chunk of size 2446, which is longer than the specified 1000\n",
      "Created a chunk of size 4437, which is longer than the specified 1000\n",
      "Created a chunk of size 1633, which is longer than the specified 1000\n",
      "Created a chunk of size 4349, which is longer than the specified 1000\n",
      "Created a chunk of size 4030, which is longer than the specified 1000\n",
      "Created a chunk of size 1538, which is longer than the specified 1000\n",
      "2024-06-30 13:19:34.571 \n",
      "  \u001b[33m\u001b[1mWarning:\u001b[0m to view this Streamlit app on a browser, run it with the following\n",
      "  command:\n",
      "\n",
      "    streamlit run /Users/jean-sebastiengaultier/anaconda3/lib/python3.11/site-packages/ipykernel_launcher.py [ARGUMENTS]\n"
     ]
    }
   ],
   "source": [
    "# Set the Cohere API key\n",
    "cohere_key = \"8acOGXby2VEQ70UErIkns9I0qGLUu9QT6KIYfzpA\"\n",
    "\n",
    "# Load data and prepare embeddings\n",
    "def load_data_and_prepare_embeddings():\n",
    "    embeddings_model = CohereEmbeddings(cohere_api_key=cohere_key)\n",
    "    loader = CSVLoader(file_path=\"/Users/jean-sebastiengaultier/Desktop/UChicago/Academic/Hackathon/test_data.csv\")\n",
    "    data = loader.load()\n",
    "    text_splitter = CharacterTextSplitter(\n",
    "        separator=\"\\n\",\n",
    "        chunk_size=1000,\n",
    "        chunk_overlap=200,\n",
    "        length_function=len,\n",
    "        is_separator_regex=False,\n",
    "    )\n",
    "    split_csv = text_splitter.split_documents(data)\n",
    "    vectorstore = Chroma.from_documents(documents=split_csv, embedding=embeddings_model)\n",
    "    retriever = vectorstore.as_retriever(search_type=\"similarity\", search_kwargs={'k': 10})\n",
    "    return retriever\n",
    "\n",
    "retriever = load_data_and_prepare_embeddings()\n",
    "prompt = hub.pull(\"rlm/rag-prompt\")\n",
    "llm = ChatCohere(model=\"command-r\", cohere_api_key=cohere_key)\n",
    "\n",
    "def format_docs(docs):\n",
    "    return \"\\n\\n\".join(doc.page_content for doc in docs)\n",
    "\n",
    "def get_answer(query):\n",
    "    rag_chain = (\n",
    "        {\"context\": retriever | format_docs, \"question\": RunnablePassthrough()}\n",
    "        | prompt\n",
    "        | llm\n",
    "        | StrOutputParser()\n",
    "    )\n",
    "    response = \"\"\n",
    "    for chunk in rag_chain.stream(query):\n",
    "        response += chunk\n",
    "    return response\n",
    "\n",
    "# Streamlit app interface\n",
    "st.title(\"RAG Model with Cohere Embeddings\")\n",
    "query = st.text_input(\"Enter your query:\")\n",
    "if st.button(\"Get Answer\"):\n",
    "    with st.spinner(\"Retrieving documents and generating answer...\"):\n",
    "        answer = get_answer(query)\n",
    "        st.write(answer)\n"
   ]
  },
  {
   "cell_type": "code",
   "execution_count": 5,
   "id": "b6d486f9-4baf-4e8f-b019-00b59f74555e",
   "metadata": {},
   "outputs": [
    {
     "ename": "SyntaxError",
     "evalue": "invalid syntax (1849344795.py, line 1)",
     "output_type": "error",
     "traceback": [
      "\u001b[0;36m  Cell \u001b[0;32mIn[5], line 1\u001b[0;36m\u001b[0m\n\u001b[0;31m    streamlit run /Users/jean-sebastiengaultier/anaconda3/lib/python3.11/site-packages/ipykernel_launcher.py [ARGUMENTS]\u001b[0m\n\u001b[0m              ^\u001b[0m\n\u001b[0;31mSyntaxError\u001b[0m\u001b[0;31m:\u001b[0m invalid syntax\n"
     ]
    }
   ],
   "source": [
    "streamlit run /Users/jean-sebastiengaultier/anaconda3/lib/python3.11/site-packages/ipykernel_launcher.py [ARGUMENTS]"
   ]
  },
  {
   "cell_type": "code",
   "execution_count": null,
   "id": "175e83cc-0966-47ab-b3fb-978466422cc6",
   "metadata": {},
   "outputs": [],
   "source": []
  }
 ],
 "metadata": {
  "kernelspec": {
   "display_name": "Python 3 (ipykernel)",
   "language": "python",
   "name": "python3"
  },
  "language_info": {
   "codemirror_mode": {
    "name": "ipython",
    "version": 3
   },
   "file_extension": ".py",
   "mimetype": "text/x-python",
   "name": "python",
   "nbconvert_exporter": "python",
   "pygments_lexer": "ipython3",
   "version": "3.11.5"
  }
 },
 "nbformat": 4,
 "nbformat_minor": 5
}
